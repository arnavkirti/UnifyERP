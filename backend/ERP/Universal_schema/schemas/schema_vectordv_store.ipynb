{
 "cells": [
  {
   "cell_type": "code",
   "execution_count": 1,
   "metadata": {},
   "outputs": [],
   "source": [
    "from langchain_community.document_loaders import TextLoader\n",
    "from langchain_text_splitters import CharacterTextSplitter\n",
    "from langchain_google_genai import ChatGoogleGenerativeAI,GoogleGenerativeAIEmbeddings\n",
    "from langchain_chroma import Chroma\n",
    "from dotenv import load_dotenv"
   ]
  },
  {
   "cell_type": "code",
   "execution_count": 5,
   "metadata": {},
   "outputs": [
    {
     "data": {
      "text/plain": [
       "True"
      ]
     },
     "execution_count": 5,
     "metadata": {},
     "output_type": "execute_result"
    }
   ],
   "source": [
    "load_dotenv()"
   ]
  },
  {
   "cell_type": "code",
   "execution_count": 7,
   "metadata": {},
   "outputs": [
    {
     "name": "stdout",
     "output_type": "stream",
     "text": [
      "Invoice schema embedded using Google Gemini and saved to vectorstore/invoice_schema_index_gemini\n"
     ]
    }
   ],
   "source": [
    "from langchain_google_genai import GoogleGenerativeAIEmbeddings\n",
    "from langchain.vectorstores import FAISS\n",
    "from langchain.document_loaders import TextLoader\n",
    "from langchain.text_splitter import RecursiveCharacterTextSplitter\n",
    "\n",
    "# Load the document\n",
    "loader = TextLoader(\"invoice_schema.json\")\n",
    "docs = loader.load()\n",
    "\n",
    "# Split the document into chunks\n",
    "splitter = RecursiveCharacterTextSplitter()\n",
    "texts = splitter.split_documents(docs)\n",
    "embeddings = GoogleGenerativeAIEmbeddings(model=\"models/embedding-001\")\n",
    "\n",
    "db = FAISS.from_documents(texts, embeddings)\n",
    "db.save_local(\"vectorstore/invoice_schema\")\n",
    "\n",
    "print(\"Invoice schema embedded using Google Gemini and saved to vectorstore/invoice_schema_index_gemini\")"
   ]
  },
  {
   "cell_type": "code",
   "execution_count": 10,
   "metadata": {},
   "outputs": [
    {
     "name": "stdout",
     "output_type": "stream",
     "text": [
      "✅ FAISS vectorstore saved to: ./vectorstore/payment_schema\n"
     ]
    }
   ],
   "source": [
    "from langchain_community.vectorstores import FAISS\n",
    "from langchain_community.docstore.document import Document\n",
    "from langchain_google_genai import GoogleGenerativeAIEmbeddings\n",
    "import os\n",
    "\n",
    "from dotenv import load_dotenv\n",
    "load_dotenv()\n",
    "\n",
    "schema_file_path = \"vectorstore/payment_schema/universal_payment_terms_schema.txt\"\n",
    "\n",
    "# Read the schema content\n",
    "with open(schema_file_path, \"r\") as f:\n",
    "    schema_text = f.read()\n",
    "\n",
    "# Wrap it as a LangChain Document\n",
    "doc = Document(page_content=schema_text)\n",
    "\n",
    "# Initialize embeddings (Gemini)\n",
    "embedding_model = GoogleGenerativeAIEmbeddings(model=\"models/embedding-001\")\n",
    "\n",
    "# Create FAISS vectorstore\n",
    "vectorstore = FAISS.from_documents([doc], embedding_model)\n",
    "\n",
    "# Save it locally\n",
    "save_path = \"./vectorstore/payment_schema\"\n",
    "vectorstore.save_local(save_path)\n",
    "\n",
    "print(f\"✅ FAISS vectorstore saved to: {save_path}\")\n"
   ]
  },
  {
   "cell_type": "code",
   "execution_count": null,
   "metadata": {},
   "outputs": [],
   "source": []
  }
 ],
 "metadata": {
  "kernelspec": {
   "display_name": "base",
   "language": "python",
   "name": "python3"
  },
  "language_info": {
   "codemirror_mode": {
    "name": "ipython",
    "version": 3
   },
   "file_extension": ".py",
   "mimetype": "text/x-python",
   "name": "python",
   "nbconvert_exporter": "python",
   "pygments_lexer": "ipython3",
   "version": "3.12.4"
  }
 },
 "nbformat": 4,
 "nbformat_minor": 2
}
